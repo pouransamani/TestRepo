{
 "cells": [
  {
   "cell_type": "markdown",
   "id": "119cfd20",
   "metadata": {},
   "source": [
    "# DataScienceEcosystem.ipynb"
   ]
  },
  {
   "cell_type": "markdown",
   "id": "0ef8b1dd",
   "metadata": {},
   "source": [
    "## **Objectives**\n",
    " * Open Source tools for Data Management in data Science\n",
    "   * MySQL\n",
    "   * Hadoop\n",
    "   * Cassandra\n",
    "   * Ceph\n",
    " * Languages of Data Science \n",
    "   * Python\n",
    "   * R\n",
    "   * Java\n",
    " * Intro to Python\n",
    " * Intro to R\n",
    " * Github repository "
   ]
  },
  {
   "cell_type": "markdown",
   "id": "dc3988be",
   "metadata": {},
   "source": [
    "## In this notebook, Data Science Tools and Ecosystem are summarized."
   ]
  },
  {
   "cell_type": "markdown",
   "id": "147bb20e",
   "metadata": {},
   "source": [
    "# Some of the popular languages that Data Scientists use are:\n",
    "  1. Python\n",
    "  2. C++\n",
    "  3. Julia\n",
    "  4. R\n",
    "\n"
   ]
  },
  {
   "cell_type": "markdown",
   "id": "f175cad9",
   "metadata": {},
   "source": [
    "## Some of the commonly used libraries used by Data Scientists include:\n",
    " 1. Pandas\n",
    " 2. Numpy\n",
    " 3. Sklearn\n",
    " "
   ]
  },
  {
   "cell_type": "markdown",
   "id": "374440dc",
   "metadata": {},
   "source": [
    "|Data Science Tools|\n",
    "|------------------|\n",
    "|SQL|\n",
    "|MangoDB|\n",
    "|Cassandra|\n",
    "|Hadoop|"
   ]
  },
  {
   "cell_type": "markdown",
   "id": "61fe75c6",
   "metadata": {},
   "source": [
    "### Below are a few examples of evaluating arithmetic expressions in Python.\n"
   ]
  },
  {
   "cell_type": "code",
   "execution_count": null,
   "id": "accccde9",
   "metadata": {},
   "outputs": [
    {
     "data": {
      "text/plain": [
       "17"
      ]
     },
     "execution_count": 1,
     "metadata": {},
     "output_type": "execute_result"
    }
   ],
   "source": [
    "#This a simple arithmetic expression to mutiply then add integers.\n",
    "(3*4)+5"
   ]
  },
  {
   "cell_type": "code",
   "execution_count": null,
   "id": "3b3e2a4c",
   "metadata": {},
   "outputs": [
    {
     "name": "stdout",
     "output_type": "stream",
     "text": [
      "3.3333333333333335\n"
     ]
    }
   ],
   "source": [
    "#Code expression to compute minute to hour\n",
    "x= 200 #minute\n",
    "y= 60 # one hour in minute\n",
    "z= x / y # hours to minute\n",
    "print(z)"
   ]
  },
  {
   "cell_type": "markdown",
   "id": "4742d989",
   "metadata": {},
   "source": [
    "### **Author**\n",
    "    Pouran Nazarian Samani"
   ]
  }
 ],
 "metadata": {
  "kernelspec": {
   "display_name": "base",
   "language": "python",
   "name": "python3"
  },
  "language_info": {
   "codemirror_mode": {
    "name": "ipython",
    "version": 3
   },
   "file_extension": ".py",
   "mimetype": "text/x-python",
   "name": "python",
   "nbconvert_exporter": "python",
   "pygments_lexer": "ipython3",
   "version": "3.11.5"
  }
 },
 "nbformat": 4,
 "nbformat_minor": 5
}
